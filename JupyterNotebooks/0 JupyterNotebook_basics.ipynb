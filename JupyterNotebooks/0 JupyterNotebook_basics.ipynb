{
 "cells": [
  {
   "cell_type": "markdown",
   "id": "6e92a715-247d-40ee-aa7d-bf147e118ead",
   "metadata": {},
   "source": [
    "# Notebook 0: Jupyter Notebook basics\n",
    "\n",
    "This notebook introduces:\n",
    "- the basics of Python programming\n",
    "- Jupyter notebook"
   ]
  },
  {
   "cell_type": "code",
   "execution_count": 1,
   "id": "e4494ed2-0150-401c-9c9b-5722589609cf",
   "metadata": {
    "tags": []
   },
   "outputs": [
    {
     "name": "stdout",
     "output_type": "stream",
     "text": [
      "hello world\n"
     ]
    }
   ],
   "source": [
    "print('hello world')"
   ]
  },
  {
   "cell_type": "code",
   "execution_count": 4,
   "id": "2d880abc-a675-48cd-a9de-3727a33bca42",
   "metadata": {
    "tags": []
   },
   "outputs": [
    {
     "name": "stdout",
     "output_type": "stream",
     "text": [
      "0\n",
      "1\n",
      "2\n",
      "3\n",
      "4\n",
      "5\n",
      "6\n",
      "7\n",
      "8\n",
      "9\n"
     ]
    }
   ],
   "source": [
    "i = 0\n",
    "while i!= 10:\n",
    "    print(i)\n",
    "    i = i + 1"
   ]
  },
  {
   "cell_type": "code",
   "execution_count": 5,
   "id": "1343a012-93aa-4f93-9a7b-a280c84cf21c",
   "metadata": {
    "tags": []
   },
   "outputs": [],
   "source": [
    "# After # is a comment, it won't be run\n",
    "# for example, nothing will show below the next line\n",
    "# print('hello world')"
   ]
  },
  {
   "cell_type": "code",
   "execution_count": 6,
   "id": "6fdf035a-cf30-495d-bdc6-de597bafd860",
   "metadata": {
    "tags": []
   },
   "outputs": [
    {
     "name": "stdout",
     "output_type": "stream",
     "text": [
      "'0 Admin.ipynb'\t\t\t  '4 Data_assimilation_obsolete.ipynb'\n",
      "'0 JupyterNotebook_basics.ipynb'   __pycache__\n",
      "'1 Setup_environment.ipynb'\t   env_setup.py\n",
      "'2 Forward_run.ipynb'\t\t   functions.py\n",
      "'3 D&B climate change.ipynb'\t   mk.compile.bak\n",
      "'4 Data_assimilation.ipynb'\n",
      "/home/46ecf3b6-9db2-4539-a466-4e8580c6701b/notebooks_main_dev\n"
     ]
    }
   ],
   "source": [
    "!ls\n",
    "!pwd"
   ]
  },
  {
   "cell_type": "code",
   "execution_count": 7,
   "id": "62d8c776-a17d-48b3-ad0e-a59ff2a2f258",
   "metadata": {
    "tags": []
   },
   "outputs": [
    {
     "name": "stdout",
     "output_type": "stream",
     "text": [
      "0 Admin.ipynb\n",
      "0 JupyterNotebook_basics.ipynb\n",
      "1 Setup_environment.ipynb\n",
      "2 Forward_run.ipynb\n",
      "3 D&B climate change.ipynb\n",
      "4 Data_assimilation.ipynb\n",
      "4 Data_assimilation_obsolete.ipynb\n",
      "__pycache__\n",
      "env_setup.py\n",
      "functions.py\n",
      "mk.compile.bak\n",
      "/home/46ecf3b6-9db2-4539-a466-4e8580c6701b/notebooks_main_dev\n"
     ]
    }
   ],
   "source": [
    "%%bash\n",
    "\n",
    "ls\n",
    "pwd"
   ]
  },
  {
   "cell_type": "code",
   "execution_count": null,
   "id": "d0206f60-2712-466a-a686-e7d29fad1fd0",
   "metadata": {},
   "outputs": [],
   "source": []
  }
 ],
 "metadata": {
  "kernelspec": {
   "display_name": "tccas-tccas",
   "language": "python",
   "name": "conda-env-tccas-tccas-py"
  },
  "language_info": {
   "codemirror_mode": {
    "name": "ipython",
    "version": 3
   },
   "file_extension": ".py",
   "mimetype": "text/x-python",
   "name": "python",
   "nbconvert_exporter": "python",
   "pygments_lexer": "ipython3",
   "version": "3.10.13"
  }
 },
 "nbformat": 4,
 "nbformat_minor": 5
}
